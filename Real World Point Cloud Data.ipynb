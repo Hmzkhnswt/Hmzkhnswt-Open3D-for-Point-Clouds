{
 "cells": [
  {
   "cell_type": "code",
   "execution_count": 13,
   "metadata": {},
   "outputs": [],
   "source": [
    "import numpy as np\n",
    "import open3d as o3d"
   ]
  },
  {
   "cell_type": "code",
   "execution_count": 19,
   "metadata": {},
   "outputs": [
    {
     "name": "stdout",
     "output_type": "stream",
     "text": [
      "PLY file loaded\n",
      "X coordinates: [-0.0378297 -0.0447794 -0.0680095 ... -0.0704544 -0.0310262 -0.0400442]\n",
      "Y coordinates: [0.12794  0.128887 0.151244 ... 0.150585 0.153728 0.15362 ]\n",
      "Z coordinates: [ 0.00447467  0.00190497  0.0371953  ... -0.0434585  -0.00354608\n",
      " -0.00816685]\n"
     ]
    }
   ],
   "source": [
    "pc_ply = o3d.io.read_point_cloud(\"data\\BunnyMesh.ply\")\n",
    "print('PLY file loaded')\n",
    "# Get the point cloud data as a NumPy array\n",
    "point_cloud_np = np.asarray(pc_ply.points)\n",
    "# Extract X, Y, and Z coordinates\n",
    "x = point_cloud_np[:, 0]\n",
    "y = point_cloud_np[:, 1]\n",
    "z = point_cloud_np[:, 2]\n",
    "# Print or use the X, Y, and Z coordinates as needed\n",
    "print('X coordinates:', x)\n",
    "print('Y coordinates:', y)\n",
    "print('Z coordinates:', z)\n",
    "# Visualization (optional)\n",
    "o3d.visualization.draw_geometries([pc_ply])\n"
   ]
  },
  {
   "attachments": {},
   "cell_type": "markdown",
   "metadata": {},
   "source": [
    "### Algorithm"
   ]
  },
  {
   "cell_type": "code",
   "execution_count": 21,
   "metadata": {},
   "outputs": [],
   "source": [
    "import numpy as np\n",
    "import matplotlib.pyplot as plt\n",
    "from mpl_toolkits.mplot3d import Axes3D  \n",
    "from sklearn.neighbors import NearestNeighbors\n",
    "\n",
    "def point_cloud_3d(x, y, z):\n",
    "    num_points = len(x)  # Assuming x, y, and z have the same length\n",
    "    k_value = 4  # Number of nearest neighbors for k-NN\n",
    "\n",
    "    # Create an array of point coordinates\n",
    "    points = np.column_stack((x, y, z))\n",
    "\n",
    "    # Create a NearestNeighbors model with k=k_value\n",
    "    knn_model = NearestNeighbors(n_neighbors=k_value + 1)  # +1 to include the point itself\n",
    "    knn_model.fit(points)\n",
    "\n",
    "    # Find indices of points with k-NN distances greater than the average\n",
    "    distances, indices = knn_model.kneighbors(points)\n",
    "    average_distance = np.mean(distances[:, 1:])  # Exclude the distance to itself\n",
    "\n",
    "    # Indices of points with distances greater than the average\n",
    "    indices_above_avg = np.where(distances[:, 1:] > average_distance)\n",
    "\n",
    "    # Create a 3D scatter plot\n",
    "    fig = plt.figure()\n",
    "    ax = fig.add_subplot(111, projection='3d')\n",
    "\n",
    "    # Plot all points in blue\n",
    "    ax.scatter(x, y, z, color='blue', label='All Points')\n",
    "\n",
    "    # Mark points with distances greater than average as red\n",
    "    ax.scatter(x[indices_above_avg[0]], y[indices_above_avg[0]], z[indices_above_avg[0]], color='red', s=10, label='Dist > Average')\n",
    "\n",
    "    ax.set_xlabel('X')\n",
    "    ax.set_ylabel('Y')\n",
    "    ax.set_zlabel('Z')\n",
    "    plt.legend()\n",
    "    plt.show()\n",
    "\n"
   ]
  },
  {
   "cell_type": "code",
   "execution_count": 4,
   "metadata": {},
   "outputs": [
    {
     "name": "stdout",
     "output_type": "stream",
     "text": [
      "[Open3D WARNING] GLFW Error: WGL: Failed to make context current: The handle is invalid. \n",
      "[Open3D WARNING] GLFW Error: WGL: Failed to make context current: The requested transformation operation is not supported. \n",
      "Average Distance between Data Points: 0.004740746752983856\n"
     ]
    }
   ],
   "source": [
    "from sklearn.neighbors import NearestNeighbors\n",
    "\n",
    "def point_cloud_3d(x, y, z):\n",
    "    num_points = len(x)  # Assuming x, y, and z have the same length\n",
    "    k_value = 1 # Number of nearest neighbors for k-NN\n",
    "\n",
    "    # Create an array of point coordinates\n",
    "    points = np.column_stack((x, y, z))\n",
    "\n",
    "    # Create a NearestNeighbors model with k=k_value\n",
    "    knn_model = NearestNeighbors(n_neighbors=k_value + 1)  # +1 to include the point itself\n",
    "    knn_model.fit(points)\n",
    "\n",
    "    # Find indices of points with k-NN distances greater than the average\n",
    "    distances, indices = knn_model.kneighbors(points)\n",
    "    average_distance = np.mean(distances[:, 1:])  # Exclude the distance to itself\n",
    "\n",
    "    # Create an Open3D point cloud\n",
    "    pcd = o3d.geometry.PointCloud()\n",
    "    pcd.points = o3d.utility.Vector3dVector(np.column_stack((x, y, z)))\n",
    "\n",
    "    # Assign colors based on distances\n",
    "    colors = np.zeros((num_points, 3))  # Initialize colors as blue\n",
    "    above_avg_indices = indices_above_avg(distances, average_distance)\n",
    "    colors[above_avg_indices] = [1, 0, 0]  # Set color to red for points above average distance\n",
    "\n",
    "    pcd.colors = o3d.utility.Vector3dVector(colors)\n",
    "\n",
    "    # Create Open3D visualization window\n",
    "    o3d.visualization.draw_geometries([pcd])\n",
    "\n",
    "    print(\"Average Distance between Data Points:\", average_distance)\n",
    "\n",
    "def indices_above_avg(distances, average_distance):\n",
    "    return np.where(distances[:, 1:] > average_distance)[0]\n",
    "\n",
    "point_cloud_3d(x, y, z)\n"
   ]
  },
  {
   "attachments": {},
   "cell_type": "markdown",
   "metadata": {},
   "source": [
    "### these are finding normals\n"
   ]
  },
  {
   "cell_type": "code",
   "execution_count": 17,
   "metadata": {},
   "outputs": [
    {
     "name": "stdout",
     "output_type": "stream",
     "text": [
      "[[0. 0. 1.]\n",
      " [0. 0. 1.]\n",
      " [0. 0. 1.]\n",
      " ...\n",
      " [0. 0. 1.]\n",
      " [0. 0. 1.]\n",
      " [0. 0. 1.]]\n",
      "35947\n"
     ]
    }
   ],
   "source": [
    "import open3d as o3d\n",
    "import numpy as np\n",
    "\n",
    "point_cloud = o3d.io.read_point_cloud('data\\BunnyMesh.ply')\n",
    "\n",
    "k_neighbors = 1\n",
    "\n",
    "# Estimate normals using KNN algorithm\n",
    "point_cloud.estimate_normals(\n",
    "    search_param=o3d.geometry.KDTreeSearchParamKNN(k_neighbors)\n",
    ")\n",
    "\n",
    "# Access the estimated normals\n",
    "normals = np.asarray(point_cloud.normals)\n",
    "\n",
    "print(normals)\n",
    "print(len(normals))\n"
   ]
  }
 ],
 "metadata": {
  "kernelspec": {
   "display_name": "Python 3",
   "language": "python",
   "name": "python3"
  },
  "language_info": {
   "codemirror_mode": {
    "name": "ipython",
    "version": 3
   },
   "file_extension": ".py",
   "mimetype": "text/x-python",
   "name": "python",
   "nbconvert_exporter": "python",
   "pygments_lexer": "ipython3",
   "version": "3.10.11"
  },
  "orig_nbformat": 4
 },
 "nbformat": 4,
 "nbformat_minor": 2
}
