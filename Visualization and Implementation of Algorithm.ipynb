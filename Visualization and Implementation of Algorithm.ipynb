{
 "cells": [
  {
   "cell_type": "code",
   "execution_count": 1,
   "metadata": {},
   "outputs": [
    {
     "name": "stdout",
     "output_type": "stream",
     "text": [
      "Jupyter environment detected. Enabling Open3D WebVisualizer.\n",
      "[Open3D INFO] WebRTC GUI backend enabled.\n",
      "[Open3D INFO] WebRTCWindowSystem: HTTP handshake server disabled.\n"
     ]
    }
   ],
   "source": [
    "import numpy as np\n",
    "import open3d as o3d\n",
    "import os\n",
    "import sys\n"
   ]
  },
  {
   "cell_type": "code",
   "execution_count": 2,
   "metadata": {},
   "outputs": [
    {
     "name": "stdout",
     "output_type": "stream",
     "text": [
      "PointCloud with 196133 points.\n"
     ]
    }
   ],
   "source": [
    "office_pcd = o3d.io.read_point_cloud(\"data\\\\fragment.ply\")\n",
    "print(office_pcd)"
   ]
  },
  {
   "attachments": {},
   "cell_type": "markdown",
   "metadata": {},
   "source": [
    "### Visulization of Office:\n"
   ]
  },
  {
   "cell_type": "code",
   "execution_count": 3,
   "metadata": {},
   "outputs": [],
   "source": [
    "o3d.visualization.draw_geometries([office_pcd])"
   ]
  },
  {
   "cell_type": "code",
   "execution_count": 4,
   "metadata": {},
   "outputs": [],
   "source": [
    "bunny_pcd = o3d.io.read_point_cloud(\"data\\BunnyMesh.ply\")\n",
    "o3d.visualization.draw_geometries([bunny_pcd])"
   ]
  },
  {
   "cell_type": "code",
   "execution_count": 19,
   "metadata": {},
   "outputs": [
    {
     "name": "stdout",
     "output_type": "stream",
     "text": [
      "X coordinates: [-0.0378297 -0.0447794 -0.0680095 ... -0.0704544 -0.0310262 -0.0400442]\n",
      "Y coordinates: [0.12794  0.128887 0.151244 ... 0.150585 0.153728 0.15362 ]\n",
      "Z coordinates: [ 0.00447467  0.00190497  0.0371953  ... -0.0434585  -0.00354608\n",
      " -0.00816685]\n",
      "Length of x:  35947\n",
      "Length of y:  35947\n",
      "Length of z:  35947\n"
     ]
    }
   ],
   "source": [
    "bunny_pcd_np = np.asarray(bunny_pcd.points)\n",
    "\n",
    "x = bunny_pcd_np[:, 0]\n",
    "y = bunny_pcd_np[:, 1]\n",
    "z = bunny_pcd_np[:, 2]\n",
    "\n",
    "print('X coordinates:', x)\n",
    "print('Y coordinates:', y)\n",
    "print('Z coordinates:', z)\n",
    "\n",
    "print (\"Length of x: \", len(x))\n",
    "print (\"Length of y: \", len(y))\n",
    "print (\"Length of z: \", len(z))"
   ]
  },
  {
   "attachments": {},
   "cell_type": "markdown",
   "metadata": {},
   "source": [
    "### Distance based algorithm and visualization:"
   ]
  },
  {
   "cell_type": "code",
   "execution_count": 6,
   "metadata": {},
   "outputs": [
    {
     "name": "stdout",
     "output_type": "stream",
     "text": [
      "Average Distance between Data Points: 0.0010034659947353545\n"
     ]
    }
   ],
   "source": [
    "from sklearn.neighbors import NearestNeighbors\n",
    "\n",
    "def point_cloud_3d(x, y, z):\n",
    "    num_points = len(x)  \n",
    "    k_value = 1 \n",
    "\n",
    "    points = np.column_stack((x, y, z))\n",
    "\n",
    "    knn_model = NearestNeighbors(n_neighbors=k_value + 1) \n",
    "    knn_model.fit(points)\n",
    "\n",
    "    distances, indices = knn_model.kneighbors(points)\n",
    "    average_distance = np.mean(distances[:, 1:])  # Exclude the distance to itself\n",
    "\n",
    "    pcd = o3d.geometry.PointCloud()\n",
    "    pcd.points = o3d.utility.Vector3dVector(np.column_stack((x, y, z)))\n",
    "\n",
    "    colors = np.zeros((num_points, 3)) \n",
    "    above_avg_indices = indices_above_avg(distances, average_distance)\n",
    "    colors[above_avg_indices] = [1, 0, 0]  # R = 1 so holes point have red color\n",
    "\n",
    "    pcd.colors = o3d.utility.Vector3dVector(colors)\n",
    "\n",
    "    o3d.visualization.draw_geometries([pcd])\n",
    "\n",
    "    print(\"Average Distance between Data Points:\", average_distance)\n",
    "\n",
    "def indices_above_avg(distances, average_distance):\n",
    "    return np.where(distances[:, 1:] > average_distance)[0]\n",
    "\n",
    "point_cloud_3d(x, y, z)\n"
   ]
  },
  {
   "attachments": {},
   "cell_type": "markdown",
   "metadata": {},
   "source": [
    "### Downsampling the point cloud of office room"
   ]
  },
  {
   "cell_type": "code",
   "execution_count": 11,
   "metadata": {},
   "outputs": [
    {
     "name": "stdout",
     "output_type": "stream",
     "text": [
      "Downsample the point cloud with a voxel of 0.06\n"
     ]
    }
   ],
   "source": [
    "office_pcd = o3d.io.read_point_cloud(\"data\\\\fragment.ply\")\n",
    "print(\"Downsample the point cloud with a voxel of 0.06\")\n",
    "downpcd_office = office_pcd.voxel_down_sample(voxel_size=0.05)\n",
    "o3d.visualization.draw_geometries([downpcd_office],\n",
    "                                  zoom=0.3412,\n",
    "                                  front=[0.4257, -0.2125, -0.8795],\n",
    "                                  lookat=[2.6172, 2.0475, 1.532],\n",
    "                                  up=[-0.0694, -0.9768, 0.2024])"
   ]
  },
  {
   "cell_type": "code",
   "execution_count": 20,
   "metadata": {},
   "outputs": [
    {
     "name": "stdout",
     "output_type": "stream",
     "text": [
      "X coordinates: [1.75393159 2.65454108 0.99917989 ... 1.29074932 2.05859375 2.109375  ]\n",
      "Y coordinates: [1.67998798 1.33157701 1.34730215 ... 2.37168017 2.39845955 2.39790979]\n",
      "Z coordinates: [1.76368447 1.70106854 2.29339578 ... 2.24696573 1.81640625 1.81640625]\n",
      "Length of x:  4718\n",
      "Length of y:  4718\n",
      "Length of z:  4718\n"
     ]
    }
   ],
   "source": [
    "downpcd_office = np.asarray(downpcd_office)\n",
    "\n",
    "x_office = downpcd_office[:, 0]\n",
    "y_office = downpcd_office[:, 1]\n",
    "z_office = downpcd_office[:, 2]\n",
    "\n",
    "print('X coordinates:', x_office)\n",
    "print('Y coordinates:', y_office)\n",
    "print('Z coordinates:', z_office)\n",
    "\n",
    "print (\"Length of x: \", len(x_office))\n",
    "print (\"Length of y: \", len(y_office))\n",
    "print (\"Length of z: \", len(z_office))\n",
    "\n"
   ]
  },
  {
   "cell_type": "code",
   "execution_count": 21,
   "metadata": {},
   "outputs": [
    {
     "name": "stdout",
     "output_type": "stream",
     "text": [
      "[Open3D WARNING] GLFW Error: WGL: Failed to make context current: The requested transformation operation is not supported. \n",
      "[Open3D WARNING] GLFW Error: WGL: Failed to make context current: The handle is invalid. \n",
      "[Open3D WARNING] GLFW Error: WGL: Failed to make context current: The handle is invalid. \n",
      "[Open3D WARNING] GLFW Error: WGL: Failed to make context current: The requested transformation operation is not supported. \n",
      "[Open3D WARNING] GLFW Error: WGL: Failed to make context current: The handle is invalid. \n",
      "[Open3D WARNING] [ViewControl] SetViewPoint() failed because window height and width are not set.\n",
      "Average Distance between Data Points: 0.03312844600280005\n"
     ]
    }
   ],
   "source": [
    "### Algorithm checking\n",
    "point_cloud_3d(x_office, y_office, z_office)"
   ]
  },
  {
   "attachments": {},
   "cell_type": "markdown",
   "metadata": {},
   "source": [
    "### Normal Estimation of office point cloud"
   ]
  },
  {
   "cell_type": "code",
   "execution_count": 8,
   "metadata": {},
   "outputs": [
    {
     "name": "stdout",
     "output_type": "stream",
     "text": [
      "Recompute the normal of the downsampled point cloud\n"
     ]
    }
   ],
   "source": [
    "print(\"Recompute the normal of the downsampled point cloud\")\n",
    "downpcd_office.estimate_normals(\n",
    "    search_param=o3d.geometry.KDTreeSearchParamHybrid(radius=0.1, max_nn=30))\n",
    "o3d.visualization.draw_geometries([downpcd_office],\n",
    "                                  zoom=0.3412,\n",
    "                                  front=[0.4257, -0.2125, -0.8795],\n",
    "                                  lookat=[2.6172, 2.0475, 1.532],\n",
    "                                  up=[-0.0694, -0.9768, 0.2024],\n",
    "                                  point_show_normal=True)"
   ]
  },
  {
   "cell_type": "code",
   "execution_count": null,
   "metadata": {},
   "outputs": [],
   "source": []
  }
 ],
 "metadata": {
  "kernelspec": {
   "display_name": "Python 3",
   "language": "python",
   "name": "python3"
  },
  "language_info": {
   "codemirror_mode": {
    "name": "ipython",
    "version": 3
   },
   "file_extension": ".py",
   "mimetype": "text/x-python",
   "name": "python",
   "nbconvert_exporter": "python",
   "pygments_lexer": "ipython3",
   "version": "3.10.11"
  },
  "orig_nbformat": 4
 },
 "nbformat": 4,
 "nbformat_minor": 2
}
